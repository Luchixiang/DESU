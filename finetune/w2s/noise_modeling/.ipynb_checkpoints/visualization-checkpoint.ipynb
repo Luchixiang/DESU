{
 "cells": [
  {
   "cell_type": "code",
   "execution_count": null,
   "metadata": {},
   "outputs": [],
   "source": [
    "import scipy.io\n",
    "from decimal import Decimal\n",
    "import matplotlib.pyplot as plt"
   ]
  },
  {
   "cell_type": "markdown",
   "metadata": {},
   "source": [
    "### Reading MATLAB noise modeling results:"
   ]
  },
  {
   "cell_type": "code",
   "execution_count": null,
   "metadata": {},
   "outputs": [],
   "source": [
    "PSNR_list = []\n",
    "SSIM_list = []\n",
    "a_list = []\n",
    "b_list = []\n",
    "\n",
    "for avg in range(1,100):\n",
    "    \n",
    "    dataset = f'widefield/avg{avg}'\n",
    "\n",
    "    PSNR = scipy.io.loadmat(dataset + '_PSNR.mat')['PSNR']\n",
    "    SSIM = scipy.io.loadmat(dataset + '_SSIM.mat')['SSIM']\n",
    "    NoiseAB = scipy.io.loadmat(dataset +'_NoiseAB.mat')['NoiseAB']\n",
    "\n",
    "    PSNR_list.append(PSNR.mean())\n",
    "    SSIM_list.append(SSIM.mean())\n",
    "    a_list.append(NoiseAB.mean(0)[0])\n",
    "    b_list.append(NoiseAB.mean(0)[1])\n",
    "    \n",
    "    if avg in [1,2,4,8,16]:\n",
    "        print(f'---- {dataset} ----')\n",
    "        print(f'PSNR = {PSNR.mean():.2f} dB')\n",
    "        print(f'SSIM = {SSIM.mean():.3f}')\n",
    "        print(f'Noise modeling parameters = ({Decimal(NoiseAB.mean(0)[0]):.2E}, {Decimal(NoiseAB.mean(0)[1]):.2E}) \\n')\n",
    "    \n",
    "    \n",
    "ax1=plt.subplot(2, 2, 1)\n",
    "ax1.plot(PSNR_list, label='PSNR')\n",
    "ax1.set_xlabel('Average of x images');\n",
    "ax1.grid(); ax1.legend();\n",
    "\n",
    "ax2=plt.subplot(2, 2, 2)\n",
    "ax2.plot(SSIM_list, label='SSIM', color='r')\n",
    "ax2.set_xlabel('Average of x images'); \n",
    "ax2.grid(); ax2.legend(); plt.show()\n",
    "\n",
    "\n",
    "ax1=plt.subplot(2, 2, 1)\n",
    "ax1.plot(a_list, label='a')\n",
    "ax1.set_xlabel('Average of x images');\n",
    "ax1.grid(); ax1.legend();\n",
    "\n",
    "ax2=plt.subplot(2, 2, 2)\n",
    "ax2.plot(b_list, label='b', color='r')\n",
    "ax2.set_xlabel('Average of x images'); \n",
    "ax2.grid(); ax2.legend(); plt.show()\n"
   ]
  },
  {
   "cell_type": "markdown",
   "metadata": {},
   "source": [
    "### The same for the SR datasets (without PSNR/SSIM)"
   ]
  },
  {
   "cell_type": "code",
   "execution_count": null,
   "metadata": {},
   "outputs": [],
   "source": [
    "dataset_names = []\n",
    "dataset_names.append(\"City100/City100_NikonD5500\")\n",
    "dataset_names.append(\"City100/City100_iPhoneX\")\n",
    "dataset_names.append(\"realSR/Canon/Test/2\")\n",
    "dataset_names.append(\"realSR/Nikon/Test/2\")\n",
    "\n",
    "for dataset_idx in range(1,5):\n",
    "    \n",
    "    dataset = f'SR/dataset{dataset_idx}'\n",
    "    NoiseAB = scipy.io.loadmat(dataset +'_NoiseAB.mat')['NoiseAB']\n",
    "\n",
    "    a_list = []\n",
    "    b_list = []\n",
    "    for channel_idx in range(3): #noise estimated for each of the RGB channels\n",
    "        a_list.append(NoiseAB.mean(0)[channel_idx][0])\n",
    "        b_list.append(NoiseAB.mean(0)[channel_idx][1])\n",
    "\n",
    "    print(f'---- {dataset_names[dataset_idx]} ----')\n",
    "#     print(f'Noise modeling parameters = ({Decimal(NoiseAB.mean(0)[0]):.2E}, {Decimal(NoiseAB.mean(0)[1]):.2E}) \\n')\n",
    "\n",
    "    ax1=plt.subplot(2, 2, 1)\n",
    "    ax1.plot(a_list, label='a')\n",
    "    ax1.set_xlabel('channels R-G-B');\n",
    "    ax1.grid(); ax1.legend();\n",
    "\n",
    "    ax2=plt.subplot(2, 2, 2)\n",
    "    ax2.plot(b_list, label='b', color='r')\n",
    "    ax2.set_xlabel('channels R-G-B'); \n",
    "    ax2.grid(); ax2.legend(); plt.show()"
   ]
  },
  {
   "cell_type": "code",
   "execution_count": null,
   "metadata": {},
   "outputs": [],
   "source": [
    "# plot noise bar figure\n",
    "import numpy as np\n",
    "import seaborn as sns\n",
    "import pandas as pd\n",
    "\n",
    "cameranoise1 = scipy.io.loadmat('SR/dataset1_NoiseAB.mat')['NoiseAB']\n",
    "cameranoise2 = scipy.io.loadmat('SR/dataset2_NoiseAB.mat')['NoiseAB']\n",
    "srnoise1 = scipy.io.loadmat('SR/dataset3_NoiseAB.mat')['NoiseAB']\n",
    "srnoise2 = scipy.io.loadmat('SR/dataset4_NoiseAB.mat')['NoiseAB']\n",
    "cameranoise = np.concatenate((cameranoise1, cameranoise2), axis=0)\n",
    "cameranoise = np.mean(cameranoise,axis=0)\n",
    "cameranoise = np.mean(cameranoise,axis=0)\n",
    "srnoise = np.concatenate((srnoise1, srnoise2), axis=0)\n",
    "srnoise = np.mean(srnoise,axis=0)\n",
    "srnoise= np.mean(srnoise,axis=0)\n",
    "ournoise_avg1 = scipy.io.loadmat('widefield/avg1_NoiseAB.mat')['NoiseAB']\n",
    "ournoise_avg1 = np.mean(ournoise_avg1,axis=0)\n",
    "ournoise_avg2 = scipy.io.loadmat('widefield/avg4_NoiseAB.mat')['NoiseAB']\n",
    "ournoise_avg2 = np.mean(ournoise_avg2,axis=0)\n",
    "ournoise_avg4 = scipy.io.loadmat('widefield/avg16_NoiseAB.mat')['NoiseAB']\n",
    "ournoise_avg4 = np.mean(ournoise_avg4,axis=0)\n",
    "ournoise_avg8 = scipy.io.loadmat('widefield/avg8_NoiseAB.mat')['NoiseAB']\n",
    "ournoise_avg8 = np.mean(ournoise_avg8,axis=0)\n",
    "\n",
    "sns.set_style(\"whitegrid\")\n",
    "\n",
    "dataset = pd.DataFrame({'dataset':['MIC360_1','MIC360_4','MIC360_16','FMD_1','realSR','City100'], \n",
    "                        'noise_a':[ournoise_avg1[0],ournoise_avg2[0],ournoise_avg4[0],0.02244,srnoise[0],cameranoise[0]]})\n",
    "a=sns.barplot(x='dataset',y='noise_a',data=dataset,palette=['#40a368','#40a368','#40a368','#ff474c','#f97306','#bf77f6'])\n",
    "a.set_xlabel('dataset', fontsize=12)\n",
    "a.set_ylabel('noise parameter', fontsize=12)\n",
    "a.set_yscale(\"log\")\n",
    "plt.savefig(\"noise.png\", bbox_inches = \"tight\")"
   ]
  }
 ],
 "metadata": {
  "kernelspec": {
   "display_name": "Python 3",
   "language": "python",
   "name": "python3"
  },
  "language_info": {
   "codemirror_mode": {
    "name": "ipython",
    "version": 3
   },
   "file_extension": ".py",
   "mimetype": "text/x-python",
   "name": "python",
   "nbconvert_exporter": "python",
   "pygments_lexer": "ipython3",
   "version": "3.6.8"
  }
 },
 "nbformat": 4,
 "nbformat_minor": 4
}
